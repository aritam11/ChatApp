{
  "cells": [
    {
      "cell_type": "markdown",
      "metadata": {
        "id": "view-in-github",
        "colab_type": "text"
      },
      "source": [
        "<a href=\"https://colab.research.google.com/github/aritam11/ChatApp/blob/master/CNN%2BRNN%2CCNN%2BLSTM%2CCNN%2BGRU_with_word2vec.ipynb\" target=\"_parent\"><img src=\"https://colab.research.google.com/assets/colab-badge.svg\" alt=\"Open In Colab\"/></a>"
      ]
    },
    {
      "cell_type": "code",
      "execution_count": 152,
      "id": "8cf30f9d",
      "metadata": {
        "id": "8cf30f9d"
      },
      "outputs": [],
      "source": [
        "import numpy as np\n",
        "import pandas as pd\n",
        "import matplotlib.pyplot as plt\n",
        "import seaborn as sns\n",
        "import nltk\n",
        "import re\n",
        "from wordcloud import WordCloud"
      ]
    },
    {
      "cell_type": "code",
      "execution_count": 153,
      "id": "332e4f49",
      "metadata": {
        "id": "332e4f49"
      },
      "outputs": [],
      "source": [
        "from tensorflow.keras.preprocessing.text import Tokenizer\n",
        "from tensorflow.keras.preprocessing.sequence import pad_sequences\n",
        "from tensorflow.keras.models import Sequential\n",
        "from tensorflow.keras.layers import Dense, Embedding, SimpleRNN, Conv1D, LSTM , MaxPool1D , GRU\n",
        "from sklearn.model_selection import train_test_split\n",
        "from sklearn.metrics import classification_report, accuracy_score"
      ]
    },
    {
      "cell_type": "code",
      "execution_count": 154,
      "id": "508fa7ff",
      "metadata": {
        "id": "508fa7ff"
      },
      "outputs": [],
      "source": [
        "fake = pd.read_csv(\"Fake.csv\")"
      ]
    },
    {
      "cell_type": "code",
      "execution_count": 155,
      "id": "05913fd6",
      "metadata": {
        "colab": {
          "base_uri": "https://localhost:8080/",
          "height": 206
        },
        "id": "05913fd6",
        "outputId": "656a043e-b34d-4aea-b0df-61adf22ef9b6"
      },
      "outputs": [
        {
          "output_type": "execute_result",
          "data": {
            "text/plain": [
              "                                               title  \\\n",
              "0   Donald Trump Sends Out Embarrassing New Year’...   \n",
              "1   Drunk Bragging Trump Staffer Started Russian ...   \n",
              "2   Sheriff David Clarke Becomes An Internet Joke...   \n",
              "3   Trump Is So Obsessed He Even Has Obama’s Name...   \n",
              "4   Pope Francis Just Called Out Donald Trump Dur...   \n",
              "\n",
              "                                                text subject  \\\n",
              "0  Donald Trump just couldn t wish all Americans ...    News   \n",
              "1  House Intelligence Committee Chairman Devin Nu...    News   \n",
              "2  On Friday, it was revealed that former Milwauk...    News   \n",
              "3  On Christmas day, Donald Trump announced that ...    News   \n",
              "4  Pope Francis used his annual Christmas Day mes...    News   \n",
              "\n",
              "                date  \n",
              "0  December 31, 2017  \n",
              "1  December 31, 2017  \n",
              "2  December 30, 2017  \n",
              "3  December 29, 2017  \n",
              "4  December 25, 2017  "
            ],
            "text/html": [
              "\n",
              "  <div id=\"df-f1237709-45ce-4d51-b194-98235c4491bf\">\n",
              "    <div class=\"colab-df-container\">\n",
              "      <div>\n",
              "<style scoped>\n",
              "    .dataframe tbody tr th:only-of-type {\n",
              "        vertical-align: middle;\n",
              "    }\n",
              "\n",
              "    .dataframe tbody tr th {\n",
              "        vertical-align: top;\n",
              "    }\n",
              "\n",
              "    .dataframe thead th {\n",
              "        text-align: right;\n",
              "    }\n",
              "</style>\n",
              "<table border=\"1\" class=\"dataframe\">\n",
              "  <thead>\n",
              "    <tr style=\"text-align: right;\">\n",
              "      <th></th>\n",
              "      <th>title</th>\n",
              "      <th>text</th>\n",
              "      <th>subject</th>\n",
              "      <th>date</th>\n",
              "    </tr>\n",
              "  </thead>\n",
              "  <tbody>\n",
              "    <tr>\n",
              "      <th>0</th>\n",
              "      <td>Donald Trump Sends Out Embarrassing New Year’...</td>\n",
              "      <td>Donald Trump just couldn t wish all Americans ...</td>\n",
              "      <td>News</td>\n",
              "      <td>December 31, 2017</td>\n",
              "    </tr>\n",
              "    <tr>\n",
              "      <th>1</th>\n",
              "      <td>Drunk Bragging Trump Staffer Started Russian ...</td>\n",
              "      <td>House Intelligence Committee Chairman Devin Nu...</td>\n",
              "      <td>News</td>\n",
              "      <td>December 31, 2017</td>\n",
              "    </tr>\n",
              "    <tr>\n",
              "      <th>2</th>\n",
              "      <td>Sheriff David Clarke Becomes An Internet Joke...</td>\n",
              "      <td>On Friday, it was revealed that former Milwauk...</td>\n",
              "      <td>News</td>\n",
              "      <td>December 30, 2017</td>\n",
              "    </tr>\n",
              "    <tr>\n",
              "      <th>3</th>\n",
              "      <td>Trump Is So Obsessed He Even Has Obama’s Name...</td>\n",
              "      <td>On Christmas day, Donald Trump announced that ...</td>\n",
              "      <td>News</td>\n",
              "      <td>December 29, 2017</td>\n",
              "    </tr>\n",
              "    <tr>\n",
              "      <th>4</th>\n",
              "      <td>Pope Francis Just Called Out Donald Trump Dur...</td>\n",
              "      <td>Pope Francis used his annual Christmas Day mes...</td>\n",
              "      <td>News</td>\n",
              "      <td>December 25, 2017</td>\n",
              "    </tr>\n",
              "  </tbody>\n",
              "</table>\n",
              "</div>\n",
              "      <button class=\"colab-df-convert\" onclick=\"convertToInteractive('df-f1237709-45ce-4d51-b194-98235c4491bf')\"\n",
              "              title=\"Convert this dataframe to an interactive table.\"\n",
              "              style=\"display:none;\">\n",
              "        \n",
              "  <svg xmlns=\"http://www.w3.org/2000/svg\" height=\"24px\"viewBox=\"0 0 24 24\"\n",
              "       width=\"24px\">\n",
              "    <path d=\"M0 0h24v24H0V0z\" fill=\"none\"/>\n",
              "    <path d=\"M18.56 5.44l.94 2.06.94-2.06 2.06-.94-2.06-.94-.94-2.06-.94 2.06-2.06.94zm-11 1L8.5 8.5l.94-2.06 2.06-.94-2.06-.94L8.5 2.5l-.94 2.06-2.06.94zm10 10l.94 2.06.94-2.06 2.06-.94-2.06-.94-.94-2.06-.94 2.06-2.06.94z\"/><path d=\"M17.41 7.96l-1.37-1.37c-.4-.4-.92-.59-1.43-.59-.52 0-1.04.2-1.43.59L10.3 9.45l-7.72 7.72c-.78.78-.78 2.05 0 2.83L4 21.41c.39.39.9.59 1.41.59.51 0 1.02-.2 1.41-.59l7.78-7.78 2.81-2.81c.8-.78.8-2.07 0-2.86zM5.41 20L4 18.59l7.72-7.72 1.47 1.35L5.41 20z\"/>\n",
              "  </svg>\n",
              "      </button>\n",
              "      \n",
              "  <style>\n",
              "    .colab-df-container {\n",
              "      display:flex;\n",
              "      flex-wrap:wrap;\n",
              "      gap: 12px;\n",
              "    }\n",
              "\n",
              "    .colab-df-convert {\n",
              "      background-color: #E8F0FE;\n",
              "      border: none;\n",
              "      border-radius: 50%;\n",
              "      cursor: pointer;\n",
              "      display: none;\n",
              "      fill: #1967D2;\n",
              "      height: 32px;\n",
              "      padding: 0 0 0 0;\n",
              "      width: 32px;\n",
              "    }\n",
              "\n",
              "    .colab-df-convert:hover {\n",
              "      background-color: #E2EBFA;\n",
              "      box-shadow: 0px 1px 2px rgba(60, 64, 67, 0.3), 0px 1px 3px 1px rgba(60, 64, 67, 0.15);\n",
              "      fill: #174EA6;\n",
              "    }\n",
              "\n",
              "    [theme=dark] .colab-df-convert {\n",
              "      background-color: #3B4455;\n",
              "      fill: #D2E3FC;\n",
              "    }\n",
              "\n",
              "    [theme=dark] .colab-df-convert:hover {\n",
              "      background-color: #434B5C;\n",
              "      box-shadow: 0px 1px 3px 1px rgba(0, 0, 0, 0.15);\n",
              "      filter: drop-shadow(0px 1px 2px rgba(0, 0, 0, 0.3));\n",
              "      fill: #FFFFFF;\n",
              "    }\n",
              "  </style>\n",
              "\n",
              "      <script>\n",
              "        const buttonEl =\n",
              "          document.querySelector('#df-f1237709-45ce-4d51-b194-98235c4491bf button.colab-df-convert');\n",
              "        buttonEl.style.display =\n",
              "          google.colab.kernel.accessAllowed ? 'block' : 'none';\n",
              "\n",
              "        async function convertToInteractive(key) {\n",
              "          const element = document.querySelector('#df-f1237709-45ce-4d51-b194-98235c4491bf');\n",
              "          const dataTable =\n",
              "            await google.colab.kernel.invokeFunction('convertToInteractive',\n",
              "                                                     [key], {});\n",
              "          if (!dataTable) return;\n",
              "\n",
              "          const docLinkHtml = 'Like what you see? Visit the ' +\n",
              "            '<a target=\"_blank\" href=https://colab.research.google.com/notebooks/data_table.ipynb>data table notebook</a>'\n",
              "            + ' to learn more about interactive tables.';\n",
              "          element.innerHTML = '';\n",
              "          dataTable['output_type'] = 'display_data';\n",
              "          await google.colab.output.renderOutput(dataTable, element);\n",
              "          const docLink = document.createElement('div');\n",
              "          docLink.innerHTML = docLinkHtml;\n",
              "          element.appendChild(docLink);\n",
              "        }\n",
              "      </script>\n",
              "    </div>\n",
              "  </div>\n",
              "  "
            ]
          },
          "metadata": {},
          "execution_count": 155
        }
      ],
      "source": [
        "fake.head()"
      ]
    },
    {
      "cell_type": "code",
      "execution_count": 156,
      "id": "00b1dcb0",
      "metadata": {
        "colab": {
          "base_uri": "https://localhost:8080/"
        },
        "id": "00b1dcb0",
        "outputId": "3623504a-4461-47d3-aaea-5287a71d0d58"
      },
      "outputs": [
        {
          "output_type": "execute_result",
          "data": {
            "text/plain": [
              "News               9050\n",
              "politics           6841\n",
              "left-news          4459\n",
              "Government News    1570\n",
              "US_News             783\n",
              "Middle-east         778\n",
              "Name: subject, dtype: int64"
            ]
          },
          "metadata": {},
          "execution_count": 156
        }
      ],
      "source": [
        "fake[\"subject\"].value_counts()"
      ]
    },
    {
      "cell_type": "code",
      "execution_count": 157,
      "id": "0acf36d1",
      "metadata": {
        "colab": {
          "base_uri": "https://localhost:8080/"
        },
        "id": "0acf36d1",
        "outputId": "78273115-aa2f-4d1a-d1dd-05884b6358ac"
      },
      "outputs": [
        {
          "output_type": "stream",
          "name": "stdout",
          "text": [
            "<class 'pandas.core.frame.DataFrame'>\n",
            "RangeIndex: 23481 entries, 0 to 23480\n",
            "Data columns (total 4 columns):\n",
            " #   Column   Non-Null Count  Dtype \n",
            "---  ------   --------------  ----- \n",
            " 0   title    23481 non-null  object\n",
            " 1   text     23481 non-null  object\n",
            " 2   subject  23481 non-null  object\n",
            " 3   date     23481 non-null  object\n",
            "dtypes: object(4)\n",
            "memory usage: 733.9+ KB\n"
          ]
        }
      ],
      "source": [
        "fake.info()"
      ]
    },
    {
      "cell_type": "code",
      "execution_count": 158,
      "id": "d6c3f726",
      "metadata": {
        "colab": {
          "base_uri": "https://localhost:8080/",
          "height": 206
        },
        "id": "d6c3f726",
        "outputId": "7801e0ee-9909-409d-e757-ea61b88ba451"
      },
      "outputs": [
        {
          "output_type": "execute_result",
          "data": {
            "text/plain": [
              "                                               title  \\\n",
              "0  As U.S. budget fight looms, Republicans flip t...   \n",
              "1  U.S. military to accept transgender recruits o...   \n",
              "2  Senior U.S. Republican senator: 'Let Mr. Muell...   \n",
              "3  FBI Russia probe helped by Australian diplomat...   \n",
              "4  Trump wants Postal Service to charge 'much mor...   \n",
              "\n",
              "                                                text       subject  \\\n",
              "0  WASHINGTON (Reuters) - The head of a conservat...  politicsNews   \n",
              "1  WASHINGTON (Reuters) - Transgender people will...  politicsNews   \n",
              "2  WASHINGTON (Reuters) - The special counsel inv...  politicsNews   \n",
              "3  WASHINGTON (Reuters) - Trump campaign adviser ...  politicsNews   \n",
              "4  SEATTLE/WASHINGTON (Reuters) - President Donal...  politicsNews   \n",
              "\n",
              "                 date  \n",
              "0  December 31, 2017   \n",
              "1  December 29, 2017   \n",
              "2  December 31, 2017   \n",
              "3  December 30, 2017   \n",
              "4  December 29, 2017   "
            ],
            "text/html": [
              "\n",
              "  <div id=\"df-b4222211-c8cb-4c1a-8f97-2bb58cb74a79\">\n",
              "    <div class=\"colab-df-container\">\n",
              "      <div>\n",
              "<style scoped>\n",
              "    .dataframe tbody tr th:only-of-type {\n",
              "        vertical-align: middle;\n",
              "    }\n",
              "\n",
              "    .dataframe tbody tr th {\n",
              "        vertical-align: top;\n",
              "    }\n",
              "\n",
              "    .dataframe thead th {\n",
              "        text-align: right;\n",
              "    }\n",
              "</style>\n",
              "<table border=\"1\" class=\"dataframe\">\n",
              "  <thead>\n",
              "    <tr style=\"text-align: right;\">\n",
              "      <th></th>\n",
              "      <th>title</th>\n",
              "      <th>text</th>\n",
              "      <th>subject</th>\n",
              "      <th>date</th>\n",
              "    </tr>\n",
              "  </thead>\n",
              "  <tbody>\n",
              "    <tr>\n",
              "      <th>0</th>\n",
              "      <td>As U.S. budget fight looms, Republicans flip t...</td>\n",
              "      <td>WASHINGTON (Reuters) - The head of a conservat...</td>\n",
              "      <td>politicsNews</td>\n",
              "      <td>December 31, 2017</td>\n",
              "    </tr>\n",
              "    <tr>\n",
              "      <th>1</th>\n",
              "      <td>U.S. military to accept transgender recruits o...</td>\n",
              "      <td>WASHINGTON (Reuters) - Transgender people will...</td>\n",
              "      <td>politicsNews</td>\n",
              "      <td>December 29, 2017</td>\n",
              "    </tr>\n",
              "    <tr>\n",
              "      <th>2</th>\n",
              "      <td>Senior U.S. Republican senator: 'Let Mr. Muell...</td>\n",
              "      <td>WASHINGTON (Reuters) - The special counsel inv...</td>\n",
              "      <td>politicsNews</td>\n",
              "      <td>December 31, 2017</td>\n",
              "    </tr>\n",
              "    <tr>\n",
              "      <th>3</th>\n",
              "      <td>FBI Russia probe helped by Australian diplomat...</td>\n",
              "      <td>WASHINGTON (Reuters) - Trump campaign adviser ...</td>\n",
              "      <td>politicsNews</td>\n",
              "      <td>December 30, 2017</td>\n",
              "    </tr>\n",
              "    <tr>\n",
              "      <th>4</th>\n",
              "      <td>Trump wants Postal Service to charge 'much mor...</td>\n",
              "      <td>SEATTLE/WASHINGTON (Reuters) - President Donal...</td>\n",
              "      <td>politicsNews</td>\n",
              "      <td>December 29, 2017</td>\n",
              "    </tr>\n",
              "  </tbody>\n",
              "</table>\n",
              "</div>\n",
              "      <button class=\"colab-df-convert\" onclick=\"convertToInteractive('df-b4222211-c8cb-4c1a-8f97-2bb58cb74a79')\"\n",
              "              title=\"Convert this dataframe to an interactive table.\"\n",
              "              style=\"display:none;\">\n",
              "        \n",
              "  <svg xmlns=\"http://www.w3.org/2000/svg\" height=\"24px\"viewBox=\"0 0 24 24\"\n",
              "       width=\"24px\">\n",
              "    <path d=\"M0 0h24v24H0V0z\" fill=\"none\"/>\n",
              "    <path d=\"M18.56 5.44l.94 2.06.94-2.06 2.06-.94-2.06-.94-.94-2.06-.94 2.06-2.06.94zm-11 1L8.5 8.5l.94-2.06 2.06-.94-2.06-.94L8.5 2.5l-.94 2.06-2.06.94zm10 10l.94 2.06.94-2.06 2.06-.94-2.06-.94-.94-2.06-.94 2.06-2.06.94z\"/><path d=\"M17.41 7.96l-1.37-1.37c-.4-.4-.92-.59-1.43-.59-.52 0-1.04.2-1.43.59L10.3 9.45l-7.72 7.72c-.78.78-.78 2.05 0 2.83L4 21.41c.39.39.9.59 1.41.59.51 0 1.02-.2 1.41-.59l7.78-7.78 2.81-2.81c.8-.78.8-2.07 0-2.86zM5.41 20L4 18.59l7.72-7.72 1.47 1.35L5.41 20z\"/>\n",
              "  </svg>\n",
              "      </button>\n",
              "      \n",
              "  <style>\n",
              "    .colab-df-container {\n",
              "      display:flex;\n",
              "      flex-wrap:wrap;\n",
              "      gap: 12px;\n",
              "    }\n",
              "\n",
              "    .colab-df-convert {\n",
              "      background-color: #E8F0FE;\n",
              "      border: none;\n",
              "      border-radius: 50%;\n",
              "      cursor: pointer;\n",
              "      display: none;\n",
              "      fill: #1967D2;\n",
              "      height: 32px;\n",
              "      padding: 0 0 0 0;\n",
              "      width: 32px;\n",
              "    }\n",
              "\n",
              "    .colab-df-convert:hover {\n",
              "      background-color: #E2EBFA;\n",
              "      box-shadow: 0px 1px 2px rgba(60, 64, 67, 0.3), 0px 1px 3px 1px rgba(60, 64, 67, 0.15);\n",
              "      fill: #174EA6;\n",
              "    }\n",
              "\n",
              "    [theme=dark] .colab-df-convert {\n",
              "      background-color: #3B4455;\n",
              "      fill: #D2E3FC;\n",
              "    }\n",
              "\n",
              "    [theme=dark] .colab-df-convert:hover {\n",
              "      background-color: #434B5C;\n",
              "      box-shadow: 0px 1px 3px 1px rgba(0, 0, 0, 0.15);\n",
              "      filter: drop-shadow(0px 1px 2px rgba(0, 0, 0, 0.3));\n",
              "      fill: #FFFFFF;\n",
              "    }\n",
              "  </style>\n",
              "\n",
              "      <script>\n",
              "        const buttonEl =\n",
              "          document.querySelector('#df-b4222211-c8cb-4c1a-8f97-2bb58cb74a79 button.colab-df-convert');\n",
              "        buttonEl.style.display =\n",
              "          google.colab.kernel.accessAllowed ? 'block' : 'none';\n",
              "\n",
              "        async function convertToInteractive(key) {\n",
              "          const element = document.querySelector('#df-b4222211-c8cb-4c1a-8f97-2bb58cb74a79');\n",
              "          const dataTable =\n",
              "            await google.colab.kernel.invokeFunction('convertToInteractive',\n",
              "                                                     [key], {});\n",
              "          if (!dataTable) return;\n",
              "\n",
              "          const docLinkHtml = 'Like what you see? Visit the ' +\n",
              "            '<a target=\"_blank\" href=https://colab.research.google.com/notebooks/data_table.ipynb>data table notebook</a>'\n",
              "            + ' to learn more about interactive tables.';\n",
              "          element.innerHTML = '';\n",
              "          dataTable['output_type'] = 'display_data';\n",
              "          await google.colab.output.renderOutput(dataTable, element);\n",
              "          const docLink = document.createElement('div');\n",
              "          docLink.innerHTML = docLinkHtml;\n",
              "          element.appendChild(docLink);\n",
              "        }\n",
              "      </script>\n",
              "    </div>\n",
              "  </div>\n",
              "  "
            ]
          },
          "metadata": {},
          "execution_count": 158
        }
      ],
      "source": [
        "real = pd.read_csv(\"True.csv\")\n",
        "real.head()"
      ]
    },
    {
      "cell_type": "code",
      "execution_count": 159,
      "id": "02e54d74",
      "metadata": {
        "colab": {
          "base_uri": "https://localhost:8080/"
        },
        "id": "02e54d74",
        "outputId": "616b0311-df4b-43c6-b261-8439f60b0972"
      },
      "outputs": [
        {
          "output_type": "execute_result",
          "data": {
            "text/plain": [
              "politicsNews    11272\n",
              "worldnews       10145\n",
              "Name: subject, dtype: int64"
            ]
          },
          "metadata": {},
          "execution_count": 159
        }
      ],
      "source": [
        "real[\"subject\"].value_counts()"
      ]
    },
    {
      "cell_type": "code",
      "execution_count": 160,
      "id": "57f25c48",
      "metadata": {
        "id": "57f25c48"
      },
      "outputs": [],
      "source": [
        "unknown_publishers = []\n",
        "for index,row in enumerate(real.text.values):\n",
        "    try:\n",
        "        record = row.split(\" -\", maxsplit=1)\n",
        "        #if no text part is present, following will give error\n",
        "        record[1]\n",
        "        #if len of piblication part is greater than 260\n",
        "        #following will give error, ensuring no text having \"-\" in between is counted\n",
        "        assert(len(record[0]) < 260)\n",
        "    except:\n",
        "        unknown_publishers.append(index)"
      ]
    },
    {
      "cell_type": "code",
      "execution_count": 161,
      "id": "c9dc45e2",
      "metadata": {
        "colab": {
          "base_uri": "https://localhost:8080/"
        },
        "id": "c9dc45e2",
        "outputId": "c93bd8b6-9591-461a-e003-6bd7cb0db681"
      },
      "outputs": [
        {
          "output_type": "execute_result",
          "data": {
            "text/plain": [
              "3488     The White House on Wednesday disclosed a group...\n",
              "4358     Neil Gorsuch, President Donald Trump’s appoint...\n",
              "4465     WASHINGTON The clock began running out this we...\n",
              "5784     Federal appeals court judge Neil Gorsuch, the ...\n",
              "6660     Republican members of Congress are complaining...\n",
              "6823     Over the course of the U.S. presidential campa...\n",
              "7922     After going through a week reminiscent of Napo...\n",
              "8194     The following timeline charts the origin and s...\n",
              "8195     Global health officials are racing to better u...\n",
              "8247     U.S. President Barack Obama visited a street m...\n",
              "8465     ALGONAC, MICH.—Parker Fox drifted out of the D...\n",
              "8481     Global health officials are racing to better u...\n",
              "8482     The following timeline charts the origin and s...\n",
              "8505     Global health officials are racing to better u...\n",
              "8506     The following timeline charts the origin and s...\n",
              "8771     In a speech weighted with America’s complicate...\n",
              "8970                                                      \n",
              "9008     The following timeline charts the origin and s...\n",
              "9009     Global health officials are racing to better u...\n",
              "9307     It’s the near future, and North Korea’s regime...\n",
              "9618     GOP leaders have unleashed a stunning level of...\n",
              "9737     Caitlyn Jenner posted a video on Wednesday (Ap...\n",
              "10479    The Democratic and Republican nominees for the...\n",
              "Name: text, dtype: object"
            ]
          },
          "metadata": {},
          "execution_count": 161
        }
      ],
      "source": [
        "real.iloc[unknown_publishers].text"
      ]
    },
    {
      "cell_type": "code",
      "execution_count": 162,
      "id": "af225b4e",
      "metadata": {
        "id": "af225b4e"
      },
      "outputs": [],
      "source": [
        "publisher = []\n",
        "tmp_text = []\n",
        "for index,row in enumerate(real.text.values):\n",
        "    if index in unknown_publishers:\n",
        "        #Add unknown of publisher not mentioned\n",
        "        tmp_text.append(row)\n",
        "        \n",
        "        publisher.append(\"Unknown\")\n",
        "        continue\n",
        "    record = row.split(\" -\", maxsplit=1)\n",
        "    publisher.append(record[0])\n",
        "    tmp_text.append(record[1])"
      ]
    },
    {
      "cell_type": "code",
      "execution_count": 163,
      "id": "252d33be",
      "metadata": {
        "id": "252d33be"
      },
      "outputs": [],
      "source": [
        "real[\"publisher\"] = publisher\n",
        "real[\"text\"] = tmp_text\n",
        "\n",
        "del publisher, tmp_text, record, unknown_publishers"
      ]
    },
    {
      "cell_type": "code",
      "execution_count": 164,
      "id": "ad6ee9e1",
      "metadata": {
        "colab": {
          "base_uri": "https://localhost:8080/",
          "height": 337
        },
        "id": "ad6ee9e1",
        "outputId": "08477993-86c0-4030-b1b3-7d8ecfb49e99"
      },
      "outputs": [
        {
          "output_type": "execute_result",
          "data": {
            "text/plain": [
              "                                               title  \\\n",
              "0  As U.S. budget fight looms, Republicans flip t...   \n",
              "1  U.S. military to accept transgender recruits o...   \n",
              "2  Senior U.S. Republican senator: 'Let Mr. Muell...   \n",
              "3  FBI Russia probe helped by Australian diplomat...   \n",
              "4  Trump wants Postal Service to charge 'much mor...   \n",
              "\n",
              "                                                text       subject  \\\n",
              "0   The head of a conservative Republican faction...  politicsNews   \n",
              "1   Transgender people will be allowed for the fi...  politicsNews   \n",
              "2   The special counsel investigation of links be...  politicsNews   \n",
              "3   Trump campaign adviser George Papadopoulos to...  politicsNews   \n",
              "4   President Donald Trump called on the U.S. Pos...  politicsNews   \n",
              "\n",
              "                 date                     publisher  \n",
              "0  December 31, 2017           WASHINGTON (Reuters)  \n",
              "1  December 29, 2017           WASHINGTON (Reuters)  \n",
              "2  December 31, 2017           WASHINGTON (Reuters)  \n",
              "3  December 30, 2017           WASHINGTON (Reuters)  \n",
              "4  December 29, 2017   SEATTLE/WASHINGTON (Reuters)  "
            ],
            "text/html": [
              "\n",
              "  <div id=\"df-7da3a16d-98dd-411a-8269-8d1f95483347\">\n",
              "    <div class=\"colab-df-container\">\n",
              "      <div>\n",
              "<style scoped>\n",
              "    .dataframe tbody tr th:only-of-type {\n",
              "        vertical-align: middle;\n",
              "    }\n",
              "\n",
              "    .dataframe tbody tr th {\n",
              "        vertical-align: top;\n",
              "    }\n",
              "\n",
              "    .dataframe thead th {\n",
              "        text-align: right;\n",
              "    }\n",
              "</style>\n",
              "<table border=\"1\" class=\"dataframe\">\n",
              "  <thead>\n",
              "    <tr style=\"text-align: right;\">\n",
              "      <th></th>\n",
              "      <th>title</th>\n",
              "      <th>text</th>\n",
              "      <th>subject</th>\n",
              "      <th>date</th>\n",
              "      <th>publisher</th>\n",
              "    </tr>\n",
              "  </thead>\n",
              "  <tbody>\n",
              "    <tr>\n",
              "      <th>0</th>\n",
              "      <td>As U.S. budget fight looms, Republicans flip t...</td>\n",
              "      <td>The head of a conservative Republican faction...</td>\n",
              "      <td>politicsNews</td>\n",
              "      <td>December 31, 2017</td>\n",
              "      <td>WASHINGTON (Reuters)</td>\n",
              "    </tr>\n",
              "    <tr>\n",
              "      <th>1</th>\n",
              "      <td>U.S. military to accept transgender recruits o...</td>\n",
              "      <td>Transgender people will be allowed for the fi...</td>\n",
              "      <td>politicsNews</td>\n",
              "      <td>December 29, 2017</td>\n",
              "      <td>WASHINGTON (Reuters)</td>\n",
              "    </tr>\n",
              "    <tr>\n",
              "      <th>2</th>\n",
              "      <td>Senior U.S. Republican senator: 'Let Mr. Muell...</td>\n",
              "      <td>The special counsel investigation of links be...</td>\n",
              "      <td>politicsNews</td>\n",
              "      <td>December 31, 2017</td>\n",
              "      <td>WASHINGTON (Reuters)</td>\n",
              "    </tr>\n",
              "    <tr>\n",
              "      <th>3</th>\n",
              "      <td>FBI Russia probe helped by Australian diplomat...</td>\n",
              "      <td>Trump campaign adviser George Papadopoulos to...</td>\n",
              "      <td>politicsNews</td>\n",
              "      <td>December 30, 2017</td>\n",
              "      <td>WASHINGTON (Reuters)</td>\n",
              "    </tr>\n",
              "    <tr>\n",
              "      <th>4</th>\n",
              "      <td>Trump wants Postal Service to charge 'much mor...</td>\n",
              "      <td>President Donald Trump called on the U.S. Pos...</td>\n",
              "      <td>politicsNews</td>\n",
              "      <td>December 29, 2017</td>\n",
              "      <td>SEATTLE/WASHINGTON (Reuters)</td>\n",
              "    </tr>\n",
              "  </tbody>\n",
              "</table>\n",
              "</div>\n",
              "      <button class=\"colab-df-convert\" onclick=\"convertToInteractive('df-7da3a16d-98dd-411a-8269-8d1f95483347')\"\n",
              "              title=\"Convert this dataframe to an interactive table.\"\n",
              "              style=\"display:none;\">\n",
              "        \n",
              "  <svg xmlns=\"http://www.w3.org/2000/svg\" height=\"24px\"viewBox=\"0 0 24 24\"\n",
              "       width=\"24px\">\n",
              "    <path d=\"M0 0h24v24H0V0z\" fill=\"none\"/>\n",
              "    <path d=\"M18.56 5.44l.94 2.06.94-2.06 2.06-.94-2.06-.94-.94-2.06-.94 2.06-2.06.94zm-11 1L8.5 8.5l.94-2.06 2.06-.94-2.06-.94L8.5 2.5l-.94 2.06-2.06.94zm10 10l.94 2.06.94-2.06 2.06-.94-2.06-.94-.94-2.06-.94 2.06-2.06.94z\"/><path d=\"M17.41 7.96l-1.37-1.37c-.4-.4-.92-.59-1.43-.59-.52 0-1.04.2-1.43.59L10.3 9.45l-7.72 7.72c-.78.78-.78 2.05 0 2.83L4 21.41c.39.39.9.59 1.41.59.51 0 1.02-.2 1.41-.59l7.78-7.78 2.81-2.81c.8-.78.8-2.07 0-2.86zM5.41 20L4 18.59l7.72-7.72 1.47 1.35L5.41 20z\"/>\n",
              "  </svg>\n",
              "      </button>\n",
              "      \n",
              "  <style>\n",
              "    .colab-df-container {\n",
              "      display:flex;\n",
              "      flex-wrap:wrap;\n",
              "      gap: 12px;\n",
              "    }\n",
              "\n",
              "    .colab-df-convert {\n",
              "      background-color: #E8F0FE;\n",
              "      border: none;\n",
              "      border-radius: 50%;\n",
              "      cursor: pointer;\n",
              "      display: none;\n",
              "      fill: #1967D2;\n",
              "      height: 32px;\n",
              "      padding: 0 0 0 0;\n",
              "      width: 32px;\n",
              "    }\n",
              "\n",
              "    .colab-df-convert:hover {\n",
              "      background-color: #E2EBFA;\n",
              "      box-shadow: 0px 1px 2px rgba(60, 64, 67, 0.3), 0px 1px 3px 1px rgba(60, 64, 67, 0.15);\n",
              "      fill: #174EA6;\n",
              "    }\n",
              "\n",
              "    [theme=dark] .colab-df-convert {\n",
              "      background-color: #3B4455;\n",
              "      fill: #D2E3FC;\n",
              "    }\n",
              "\n",
              "    [theme=dark] .colab-df-convert:hover {\n",
              "      background-color: #434B5C;\n",
              "      box-shadow: 0px 1px 3px 1px rgba(0, 0, 0, 0.15);\n",
              "      filter: drop-shadow(0px 1px 2px rgba(0, 0, 0, 0.3));\n",
              "      fill: #FFFFFF;\n",
              "    }\n",
              "  </style>\n",
              "\n",
              "      <script>\n",
              "        const buttonEl =\n",
              "          document.querySelector('#df-7da3a16d-98dd-411a-8269-8d1f95483347 button.colab-df-convert');\n",
              "        buttonEl.style.display =\n",
              "          google.colab.kernel.accessAllowed ? 'block' : 'none';\n",
              "\n",
              "        async function convertToInteractive(key) {\n",
              "          const element = document.querySelector('#df-7da3a16d-98dd-411a-8269-8d1f95483347');\n",
              "          const dataTable =\n",
              "            await google.colab.kernel.invokeFunction('convertToInteractive',\n",
              "                                                     [key], {});\n",
              "          if (!dataTable) return;\n",
              "\n",
              "          const docLinkHtml = 'Like what you see? Visit the ' +\n",
              "            '<a target=\"_blank\" href=https://colab.research.google.com/notebooks/data_table.ipynb>data table notebook</a>'\n",
              "            + ' to learn more about interactive tables.';\n",
              "          element.innerHTML = '';\n",
              "          dataTable['output_type'] = 'display_data';\n",
              "          await google.colab.output.renderOutput(dataTable, element);\n",
              "          const docLink = document.createElement('div');\n",
              "          docLink.innerHTML = docLinkHtml;\n",
              "          element.appendChild(docLink);\n",
              "        }\n",
              "      </script>\n",
              "    </div>\n",
              "  </div>\n",
              "  "
            ]
          },
          "metadata": {},
          "execution_count": 164
        }
      ],
      "source": [
        "real.head()"
      ]
    },
    {
      "cell_type": "code",
      "execution_count": 165,
      "id": "655f1a9e",
      "metadata": {
        "colab": {
          "base_uri": "https://localhost:8080/"
        },
        "id": "655f1a9e",
        "outputId": "8bcefe14-aee6-4720-ef3e-86c6f36976ea"
      },
      "outputs": [
        {
          "output_type": "execute_result",
          "data": {
            "text/plain": [
              "[8970]"
            ]
          },
          "metadata": {},
          "execution_count": 165
        }
      ],
      "source": [
        "[index for index,text in enumerate(real.text.values) if str(text).strip() == '']"
      ]
    },
    {
      "cell_type": "code",
      "execution_count": 166,
      "id": "ee1bd71a",
      "metadata": {
        "id": "ee1bd71a"
      },
      "outputs": [],
      "source": [
        "real = real.drop(8970, axis=0)"
      ]
    },
    {
      "cell_type": "code",
      "execution_count": 167,
      "id": "63cdb0da",
      "metadata": {
        "colab": {
          "base_uri": "https://localhost:8080/",
          "height": 223
        },
        "id": "63cdb0da",
        "outputId": "ca98893e-50d8-4bf6-87c6-2ee1248a6f22"
      },
      "outputs": [
        {
          "output_type": "stream",
          "name": "stdout",
          "text": [
            "No of empty rows: 630\n"
          ]
        },
        {
          "output_type": "execute_result",
          "data": {
            "text/plain": [
              "                                                   title text    subject  \\\n",
              "21816  BALTIMORE BURNS: MARYLAND GOVERNOR BRINGS IN N...       left-news   \n",
              "21826  FULL VIDEO: THE BLOCKBUSTER INVESTIGATION INTO...       left-news   \n",
              "21827  (VIDEO) HILLARY CLINTON: RELIGIOUS BELIEFS MUS...       left-news   \n",
              "21857  (VIDEO)ICE PROTECTING OBAMA: WON’T RELEASE NAM...       left-news   \n",
              "21873  (VIDEO) HYSTERICAL SNL TAKE ON HILLARY’S ANNOU...       left-news   \n",
              "\n",
              "               date  \n",
              "21816  Apr 27, 2015  \n",
              "21826  Apr 25, 2015  \n",
              "21827  Apr 25, 2015  \n",
              "21857  Apr 14, 2015  \n",
              "21873  Apr 12, 2015  "
            ],
            "text/html": [
              "\n",
              "  <div id=\"df-c776dc3f-c31a-4038-8c26-21e91af73655\">\n",
              "    <div class=\"colab-df-container\">\n",
              "      <div>\n",
              "<style scoped>\n",
              "    .dataframe tbody tr th:only-of-type {\n",
              "        vertical-align: middle;\n",
              "    }\n",
              "\n",
              "    .dataframe tbody tr th {\n",
              "        vertical-align: top;\n",
              "    }\n",
              "\n",
              "    .dataframe thead th {\n",
              "        text-align: right;\n",
              "    }\n",
              "</style>\n",
              "<table border=\"1\" class=\"dataframe\">\n",
              "  <thead>\n",
              "    <tr style=\"text-align: right;\">\n",
              "      <th></th>\n",
              "      <th>title</th>\n",
              "      <th>text</th>\n",
              "      <th>subject</th>\n",
              "      <th>date</th>\n",
              "    </tr>\n",
              "  </thead>\n",
              "  <tbody>\n",
              "    <tr>\n",
              "      <th>21816</th>\n",
              "      <td>BALTIMORE BURNS: MARYLAND GOVERNOR BRINGS IN N...</td>\n",
              "      <td></td>\n",
              "      <td>left-news</td>\n",
              "      <td>Apr 27, 2015</td>\n",
              "    </tr>\n",
              "    <tr>\n",
              "      <th>21826</th>\n",
              "      <td>FULL VIDEO: THE BLOCKBUSTER INVESTIGATION INTO...</td>\n",
              "      <td></td>\n",
              "      <td>left-news</td>\n",
              "      <td>Apr 25, 2015</td>\n",
              "    </tr>\n",
              "    <tr>\n",
              "      <th>21827</th>\n",
              "      <td>(VIDEO) HILLARY CLINTON: RELIGIOUS BELIEFS MUS...</td>\n",
              "      <td></td>\n",
              "      <td>left-news</td>\n",
              "      <td>Apr 25, 2015</td>\n",
              "    </tr>\n",
              "    <tr>\n",
              "      <th>21857</th>\n",
              "      <td>(VIDEO)ICE PROTECTING OBAMA: WON’T RELEASE NAM...</td>\n",
              "      <td></td>\n",
              "      <td>left-news</td>\n",
              "      <td>Apr 14, 2015</td>\n",
              "    </tr>\n",
              "    <tr>\n",
              "      <th>21873</th>\n",
              "      <td>(VIDEO) HYSTERICAL SNL TAKE ON HILLARY’S ANNOU...</td>\n",
              "      <td></td>\n",
              "      <td>left-news</td>\n",
              "      <td>Apr 12, 2015</td>\n",
              "    </tr>\n",
              "  </tbody>\n",
              "</table>\n",
              "</div>\n",
              "      <button class=\"colab-df-convert\" onclick=\"convertToInteractive('df-c776dc3f-c31a-4038-8c26-21e91af73655')\"\n",
              "              title=\"Convert this dataframe to an interactive table.\"\n",
              "              style=\"display:none;\">\n",
              "        \n",
              "  <svg xmlns=\"http://www.w3.org/2000/svg\" height=\"24px\"viewBox=\"0 0 24 24\"\n",
              "       width=\"24px\">\n",
              "    <path d=\"M0 0h24v24H0V0z\" fill=\"none\"/>\n",
              "    <path d=\"M18.56 5.44l.94 2.06.94-2.06 2.06-.94-2.06-.94-.94-2.06-.94 2.06-2.06.94zm-11 1L8.5 8.5l.94-2.06 2.06-.94-2.06-.94L8.5 2.5l-.94 2.06-2.06.94zm10 10l.94 2.06.94-2.06 2.06-.94-2.06-.94-.94-2.06-.94 2.06-2.06.94z\"/><path d=\"M17.41 7.96l-1.37-1.37c-.4-.4-.92-.59-1.43-.59-.52 0-1.04.2-1.43.59L10.3 9.45l-7.72 7.72c-.78.78-.78 2.05 0 2.83L4 21.41c.39.39.9.59 1.41.59.51 0 1.02-.2 1.41-.59l7.78-7.78 2.81-2.81c.8-.78.8-2.07 0-2.86zM5.41 20L4 18.59l7.72-7.72 1.47 1.35L5.41 20z\"/>\n",
              "  </svg>\n",
              "      </button>\n",
              "      \n",
              "  <style>\n",
              "    .colab-df-container {\n",
              "      display:flex;\n",
              "      flex-wrap:wrap;\n",
              "      gap: 12px;\n",
              "    }\n",
              "\n",
              "    .colab-df-convert {\n",
              "      background-color: #E8F0FE;\n",
              "      border: none;\n",
              "      border-radius: 50%;\n",
              "      cursor: pointer;\n",
              "      display: none;\n",
              "      fill: #1967D2;\n",
              "      height: 32px;\n",
              "      padding: 0 0 0 0;\n",
              "      width: 32px;\n",
              "    }\n",
              "\n",
              "    .colab-df-convert:hover {\n",
              "      background-color: #E2EBFA;\n",
              "      box-shadow: 0px 1px 2px rgba(60, 64, 67, 0.3), 0px 1px 3px 1px rgba(60, 64, 67, 0.15);\n",
              "      fill: #174EA6;\n",
              "    }\n",
              "\n",
              "    [theme=dark] .colab-df-convert {\n",
              "      background-color: #3B4455;\n",
              "      fill: #D2E3FC;\n",
              "    }\n",
              "\n",
              "    [theme=dark] .colab-df-convert:hover {\n",
              "      background-color: #434B5C;\n",
              "      box-shadow: 0px 1px 3px 1px rgba(0, 0, 0, 0.15);\n",
              "      filter: drop-shadow(0px 1px 2px rgba(0, 0, 0, 0.3));\n",
              "      fill: #FFFFFF;\n",
              "    }\n",
              "  </style>\n",
              "\n",
              "      <script>\n",
              "        const buttonEl =\n",
              "          document.querySelector('#df-c776dc3f-c31a-4038-8c26-21e91af73655 button.colab-df-convert');\n",
              "        buttonEl.style.display =\n",
              "          google.colab.kernel.accessAllowed ? 'block' : 'none';\n",
              "\n",
              "        async function convertToInteractive(key) {\n",
              "          const element = document.querySelector('#df-c776dc3f-c31a-4038-8c26-21e91af73655');\n",
              "          const dataTable =\n",
              "            await google.colab.kernel.invokeFunction('convertToInteractive',\n",
              "                                                     [key], {});\n",
              "          if (!dataTable) return;\n",
              "\n",
              "          const docLinkHtml = 'Like what you see? Visit the ' +\n",
              "            '<a target=\"_blank\" href=https://colab.research.google.com/notebooks/data_table.ipynb>data table notebook</a>'\n",
              "            + ' to learn more about interactive tables.';\n",
              "          element.innerHTML = '';\n",
              "          dataTable['output_type'] = 'display_data';\n",
              "          await google.colab.output.renderOutput(dataTable, element);\n",
              "          const docLink = document.createElement('div');\n",
              "          docLink.innerHTML = docLinkHtml;\n",
              "          element.appendChild(docLink);\n",
              "        }\n",
              "      </script>\n",
              "    </div>\n",
              "  </div>\n",
              "  "
            ]
          },
          "metadata": {},
          "execution_count": 167
        }
      ],
      "source": [
        "# checking for the same in fake news\n",
        "empty_fake_index = [index for index,text in enumerate(fake.text.values) if str(text).strip() == '']\n",
        "print(f\"No of empty rows: {len(empty_fake_index)}\")\n",
        "fake.iloc[empty_fake_index].tail()"
      ]
    },
    {
      "cell_type": "code",
      "execution_count": 168,
      "id": "7f6f18f4",
      "metadata": {
        "id": "7f6f18f4"
      },
      "outputs": [],
      "source": [
        "real[\"class\"] = 1\n",
        "fake[\"class\"] = 0"
      ]
    },
    {
      "cell_type": "code",
      "execution_count": 169,
      "id": "87cb5726",
      "metadata": {
        "id": "87cb5726"
      },
      "outputs": [],
      "source": [
        "#Combining Title and Text\n",
        "real[\"text\"] = real[\"title\"] + \" \" + real[\"text\"]\n",
        "fake[\"text\"] = fake[\"title\"] + \" \" + fake[\"text\"]"
      ]
    },
    {
      "cell_type": "code",
      "execution_count": 170,
      "id": "caf72429",
      "metadata": {
        "id": "caf72429"
      },
      "outputs": [],
      "source": [
        "real = real.drop([\"subject\", \"date\",\"title\",  \"publisher\"], axis=1)\n",
        "fake = fake.drop([\"subject\", \"date\", \"title\"], axis=1)"
      ]
    },
    {
      "cell_type": "code",
      "execution_count": 171,
      "id": "b3f403dd",
      "metadata": {
        "id": "b3f403dd"
      },
      "outputs": [],
      "source": [
        "data = real.append(fake, ignore_index=True)\n",
        "del real, fake"
      ]
    },
    {
      "cell_type": "code",
      "execution_count": 172,
      "id": "e91e7bf1",
      "metadata": {
        "colab": {
          "base_uri": "https://localhost:8080/"
        },
        "id": "e91e7bf1",
        "outputId": "848e6a79-ec97-46d6-e544-1312567f8758"
      },
      "outputs": [
        {
          "output_type": "stream",
          "name": "stdout",
          "text": [
            "[nltk_data] Downloading package stopwords to /root/nltk_data...\n",
            "[nltk_data]   Package stopwords is already up-to-date!\n",
            "[nltk_data] Downloading package punkt to /root/nltk_data...\n",
            "[nltk_data]   Package punkt is already up-to-date!\n"
          ]
        },
        {
          "output_type": "execute_result",
          "data": {
            "text/plain": [
              "True"
            ]
          },
          "metadata": {},
          "execution_count": 172
        }
      ],
      "source": [
        "nltk.download('stopwords')\n",
        "nltk.download('punkt')"
      ]
    },
    {
      "cell_type": "markdown",
      "id": "0ab07f47",
      "metadata": {
        "id": "0ab07f47"
      },
      "source": [
        "Removing StopWords, Punctuations and single-character words"
      ]
    },
    {
      "cell_type": "code",
      "execution_count": 173,
      "id": "2047c0e2",
      "metadata": {
        "id": "2047c0e2"
      },
      "outputs": [],
      "source": [
        "y = data[\"class\"].values\n",
        "#Converting X to format acceptable by gensim, removing annd punctuation stopwords in the process\n",
        "X = []\n",
        "stop_words = set(nltk.corpus.stopwords.words(\"english\"))\n",
        "tokenizer = nltk.tokenize.RegexpTokenizer(r'\\w+')\n",
        "for par in data[\"text\"].values:\n",
        "    tmp = []\n",
        "    sentences = nltk.sent_tokenize(par)\n",
        "    for sent in sentences:\n",
        "        tokens = tokenizer.tokenize(sent)\n",
        "        filtered_words = [w.strip() for w in tokens if w not in stop_words and len(w) > 1]\n",
        "        tmp.extend(filtered_words)\n",
        "    X.append(tmp)\n",
        "\n",
        "del data"
      ]
    },
    {
      "cell_type": "code",
      "execution_count": 174,
      "id": "be9f409b",
      "metadata": {
        "id": "be9f409b"
      },
      "outputs": [],
      "source": [
        "import gensim"
      ]
    },
    {
      "cell_type": "code",
      "execution_count": 175,
      "id": "81b8286c",
      "metadata": {
        "id": "81b8286c"
      },
      "outputs": [],
      "source": [
        "#Dimension of vectors we are generating\n",
        "EMBEDDING_DIM = 100\n",
        "\n",
        "#Creating Word Vectors by Word2Vec Method (takes time...)\n",
        "w2v_model = gensim.models.Word2Vec(sentences=X,size=EMBEDDING_DIM, window=5, min_count=1)"
      ]
    },
    {
      "cell_type": "code",
      "execution_count": 177,
      "id": "f0b32449",
      "metadata": {
        "colab": {
          "base_uri": "https://localhost:8080/",
          "height": 165
        },
        "id": "f0b32449",
        "outputId": "f1ea8ce6-a4ac-49b4-fb3d-9502c5154930"
      },
      "outputs": [
        {
          "output_type": "error",
          "ename": "AttributeError",
          "evalue": "ignored",
          "traceback": [
            "\u001b[0;31m---------------------------------------------------------------------------\u001b[0m",
            "\u001b[0;31mAttributeError\u001b[0m                            Traceback (most recent call last)",
            "\u001b[0;32m<ipython-input-177-b4b8b809694a>\u001b[0m in \u001b[0;36m<module>\u001b[0;34m()\u001b[0m\n\u001b[0;32m----> 1\u001b[0;31m \u001b[0mlen\u001b[0m\u001b[0;34m(\u001b[0m\u001b[0mw2v_model\u001b[0m\u001b[0;34m.\u001b[0m\u001b[0mwv\u001b[0m\u001b[0;34m.\u001b[0m\u001b[0mkey_to_index\u001b[0m\u001b[0;34m)\u001b[0m\u001b[0;34m\u001b[0m\u001b[0;34m\u001b[0m\u001b[0m\n\u001b[0m",
            "\u001b[0;31mAttributeError\u001b[0m: 'Word2VecKeyedVectors' object has no attribute 'key_to_index'"
          ]
        }
      ],
      "source": [
        "len(w2v_model.wv.key_to_index)"
      ]
    },
    {
      "cell_type": "code",
      "execution_count": 178,
      "id": "57bd7401",
      "metadata": {
        "colab": {
          "base_uri": "https://localhost:8080/"
        },
        "id": "57bd7401",
        "outputId": "97059b59-6094-4b63-8312-133b562d276a"
      },
      "outputs": [
        {
          "output_type": "execute_result",
          "data": {
            "text/plain": [
              "[('Marine', 0.74330735206604),\n",
              " ('Corps', 0.6753474473953247),\n",
              " ('Navy', 0.6678800582885742),\n",
              " ('Guard', 0.6573798060417175),\n",
              " ('commander', 0.6398434638977051),\n",
              " ('Attahiru', 0.6151527166366577),\n",
              " ('commanders', 0.6140105724334717),\n",
              " ('Grassrope', 0.606911838054657),\n",
              " ('army', 0.6029186248779297),\n",
              " ('admirals', 0.6017786264419556)]"
            ]
          },
          "metadata": {},
          "execution_count": 178
        }
      ],
      "source": [
        "w2v_model.wv.most_similar(\"Army\")"
      ]
    },
    {
      "cell_type": "code",
      "execution_count": 179,
      "id": "ede05bce",
      "metadata": {
        "colab": {
          "base_uri": "https://localhost:8080/"
        },
        "id": "ede05bce",
        "outputId": "b1c417a6-23e9-4e83-efe3-affcd2704883"
      },
      "outputs": [
        {
          "output_type": "execute_result",
          "data": {
            "text/plain": [
              "[('Tehran', 0.8924319744110107),\n",
              " ('Iranian', 0.757009744644165),\n",
              " ('Hezbollah', 0.6626573801040649),\n",
              " ('Riyadh', 0.6615345478057861),\n",
              " ('nuclear', 0.652499258518219),\n",
              " ('Iranians', 0.6247107982635498),\n",
              " ('destabilizing', 0.6135573387145996),\n",
              " ('Turkey', 0.6092820167541504),\n",
              " ('Antagonize', 0.6075030565261841),\n",
              " ('Saudis', 0.6072289943695068)]"
            ]
          },
          "metadata": {},
          "execution_count": 179
        }
      ],
      "source": [
        "w2v_model.wv.most_similar(\"Iran\")"
      ]
    },
    {
      "cell_type": "code",
      "execution_count": 180,
      "id": "04fede55",
      "metadata": {
        "colab": {
          "base_uri": "https://localhost:8080/"
        },
        "id": "04fede55",
        "outputId": "ae51e3ab-2b5e-4bd9-a759-85dd92c3898f"
      },
      "outputs": [
        {
          "output_type": "execute_result",
          "data": {
            "text/plain": [
              "[('Comey', 0.7159454226493835),\n",
              " ('CIA', 0.6284183263778687),\n",
              " ('bureau', 0.6118370294570923),\n",
              " ('investigators', 0.6090315580368042),\n",
              " ('Mueller', 0.6019518971443176),\n",
              " ('DOJ', 0.5934025645256042),\n",
              " ('Investigation', 0.5574303865432739),\n",
              " ('investigation', 0.5545222759246826),\n",
              " ('investigations', 0.5516840219497681),\n",
              " ('inquiry', 0.5467161536216736)]"
            ]
          },
          "metadata": {},
          "execution_count": 180
        }
      ],
      "source": [
        "w2v_model.wv.most_similar(\"FBI\")"
      ]
    },
    {
      "cell_type": "code",
      "execution_count": 181,
      "id": "5361e1e7",
      "metadata": {
        "colab": {
          "base_uri": "https://localhost:8080/"
        },
        "id": "5361e1e7",
        "outputId": "593f8a1b-8855-4409-f310-ee70045cee15"
      },
      "outputs": [
        {
          "output_type": "execute_result",
          "data": {
            "text/plain": [
              "[('Twitter', 0.7097092866897583),\n",
              " ('Instagram', 0.6733429431915283),\n",
              " ('Google', 0.6556414365768433),\n",
              " ('posting', 0.6294727921485901),\n",
              " ('Reddit', 0.6244467496871948),\n",
              " ('website', 0.6231716871261597),\n",
              " ('GoFundMe', 0.61151123046875),\n",
              " ('blog', 0.601448655128479),\n",
              " ('Zuckerberg', 0.5858651399612427),\n",
              " ('FB', 0.5727802515029907)]"
            ]
          },
          "metadata": {},
          "execution_count": 181
        }
      ],
      "source": [
        "w2v_model.wv.most_similar(\"Facebook\")"
      ]
    },
    {
      "cell_type": "code",
      "execution_count": 182,
      "id": "b297252c",
      "metadata": {
        "colab": {
          "base_uri": "https://localhost:8080/"
        },
        "id": "b297252c",
        "outputId": "ce5b7443-4259-45d3-b9be-8072ee77a014"
      },
      "outputs": [
        {
          "output_type": "execute_result",
          "data": {
            "text/plain": [
              "[('Cruz', 0.5597764849662781),\n",
              " ('His', 0.5505765080451965),\n",
              " ('Bush', 0.5250269770622253),\n",
              " ('He', 0.5148721933364868),\n",
              " ('Hillary', 0.511627733707428),\n",
              " ('She', 0.4857006072998047),\n",
              " ('Putin', 0.46154409646987915),\n",
              " ('incoming', 0.4604354500770569),\n",
              " ('publicly', 0.4577462375164032),\n",
              " ('Comey', 0.4575670063495636)]"
            ]
          },
          "metadata": {},
          "execution_count": 182
        }
      ],
      "source": [
        "w2v_model.wv.most_similar(positive=[\"Trump\",\"Obama\", \"Clinton\"])"
      ]
    },
    {
      "cell_type": "code",
      "execution_count": 183,
      "id": "f2ca786a",
      "metadata": {
        "id": "f2ca786a"
      },
      "outputs": [],
      "source": [
        "tokenizer = Tokenizer()\n",
        "tokenizer.fit_on_texts(X)\n",
        "\n",
        "X = tokenizer.texts_to_sequences(X)"
      ]
    },
    {
      "cell_type": "code",
      "execution_count": 184,
      "id": "9d2d582f",
      "metadata": {
        "colab": {
          "base_uri": "https://localhost:8080/"
        },
        "id": "9d2d582f",
        "outputId": "0713a3e7-180a-4d17-9ada-b635c537a688"
      },
      "outputs": [
        {
          "output_type": "stream",
          "name": "stdout",
          "text": [
            "trump : 1\n",
            "said : 2\n",
            "the : 3\n",
            "president : 4\n",
            "would : 5\n",
            "people : 6\n",
            "one : 7\n",
            "state : 8\n",
            "new : 9\n",
            "it : 10\n"
          ]
        }
      ],
      "source": [
        "word_index = tokenizer.word_index\n",
        "for word, num in word_index.items():\n",
        "    print(f\"{word} : {num}\")\n",
        "    if num == 10:\n",
        "        break  "
      ]
    },
    {
      "cell_type": "code",
      "execution_count": 185,
      "id": "72fe2654",
      "metadata": {
        "colab": {
          "base_uri": "https://localhost:8080/"
        },
        "id": "72fe2654",
        "outputId": "59f249ec-aa53-4048-d206-91234fd74371"
      },
      "outputs": [
        {
          "output_type": "execute_result",
          "data": {
            "text/plain": [
              "43828"
            ]
          },
          "metadata": {},
          "execution_count": 185
        }
      ],
      "source": [
        "nos = np.array([len(x) for x in X])\n",
        "len(nos[nos  < 700])"
      ]
    },
    {
      "cell_type": "code",
      "execution_count": 186,
      "id": "96a746cb",
      "metadata": {
        "id": "96a746cb"
      },
      "outputs": [],
      "source": [
        "maxlen = 700 \n",
        "\n",
        "#Making all news of size maxlen defined above\n",
        "X = pad_sequences(X, maxlen=maxlen)\n"
      ]
    },
    {
      "cell_type": "code",
      "execution_count": 187,
      "id": "d4e1769c",
      "metadata": {
        "id": "d4e1769c"
      },
      "outputs": [],
      "source": [
        "#+1 for UNKNOWN\n",
        "vocab_size = len(tokenizer.word_index) + 1"
      ]
    },
    {
      "cell_type": "code",
      "execution_count": 188,
      "id": "ede6ee2b",
      "metadata": {
        "id": "ede6ee2b"
      },
      "outputs": [],
      "source": [
        "def get_weight_matrix(model, vocab):\n",
        "    # total vocabulary size plus 0 for unknown words\n",
        "    vocab_size = len(vocab) + 1\n",
        "    # define weight matrix dimensions with all 0\n",
        "    weight_matrix = np.zeros((vocab_size, EMBEDDING_DIM))\n",
        "    # step vocab, store vectors using the Tokenizer's integer mapping\n",
        "    for word, i in vocab.items():\n",
        "        try:\n",
        "            weight_matrix[i] = model.wv[word]\n",
        "        except:\n",
        "            weight_matrix[i] = np.zeros(EMBEDDING_DIM)\n",
        "    return weight_matrix"
      ]
    },
    {
      "cell_type": "code",
      "execution_count": 189,
      "id": "1e44d28f",
      "metadata": {
        "id": "1e44d28f"
      },
      "outputs": [],
      "source": [
        "embedding_vectors = get_weight_matrix(w2v_model, word_index)"
      ]
    },
    {
      "cell_type": "markdown",
      "source": [
        "# CNN + RNN"
      ],
      "metadata": {
        "id": "-jI35mKuTTIW"
      },
      "id": "-jI35mKuTTIW"
    },
    {
      "cell_type": "code",
      "execution_count": 190,
      "id": "58e2b3f4",
      "metadata": {
        "id": "58e2b3f4"
      },
      "outputs": [],
      "source": [
        "#Defining Neural Network\n",
        "model = Sequential()\n",
        "#Non-trainable embeddidng layer\n",
        "model.add(Embedding(vocab_size, output_dim=EMBEDDING_DIM, weights=[embedding_vectors], input_length=maxlen, trainable=False))\n",
        "#CNN\n",
        "model.add(Conv1D(activation='relu', filters=4, kernel_size=4))\n",
        "model.add(MaxPool1D())\n",
        "#RNN\n",
        "model.add(SimpleRNN(128))\n",
        "model.add(Dense(1, activation='sigmoid'))\n",
        "model.compile(optimizer='adam', loss='binary_crossentropy', metrics=['acc'])"
      ]
    },
    {
      "cell_type": "code",
      "execution_count": 191,
      "id": "9722822b",
      "metadata": {
        "colab": {
          "base_uri": "https://localhost:8080/"
        },
        "id": "9722822b",
        "outputId": "4252ba40-9c88-49c3-f4fd-58891e94c2e1"
      },
      "outputs": [
        {
          "output_type": "stream",
          "name": "stdout",
          "text": [
            "Model: \"sequential_11\"\n",
            "_________________________________________________________________\n",
            " Layer (type)                Output Shape              Param #   \n",
            "=================================================================\n",
            " embedding_11 (Embedding)    (None, 700, 100)          12239100  \n",
            "                                                                 \n",
            " conv1d_11 (Conv1D)          (None, 697, 4)            1604      \n",
            "                                                                 \n",
            " max_pooling1d_11 (MaxPoolin  (None, 348, 4)           0         \n",
            " g1D)                                                            \n",
            "                                                                 \n",
            " simple_rnn_2 (SimpleRNN)    (None, 128)               17024     \n",
            "                                                                 \n",
            " dense_6 (Dense)             (None, 1)                 129       \n",
            "                                                                 \n",
            "=================================================================\n",
            "Total params: 12,257,857\n",
            "Trainable params: 18,757\n",
            "Non-trainable params: 12,239,100\n",
            "_________________________________________________________________\n"
          ]
        }
      ],
      "source": [
        "model.summary()"
      ]
    },
    {
      "cell_type": "code",
      "execution_count": 192,
      "id": "ba3ebd2a",
      "metadata": {
        "id": "ba3ebd2a"
      },
      "outputs": [],
      "source": [
        "X_train, X_test, y_train, y_test = train_test_split(X, y) "
      ]
    },
    {
      "cell_type": "code",
      "execution_count": 193,
      "id": "7f893ada",
      "metadata": {
        "colab": {
          "base_uri": "https://localhost:8080/"
        },
        "id": "7f893ada",
        "outputId": "ea18829e-cc5f-4b61-e523-f914b5277830"
      },
      "outputs": [
        {
          "output_type": "stream",
          "name": "stdout",
          "text": [
            "Epoch 1/2\n",
            "737/737 [==============================] - 117s 157ms/step - loss: 0.2637 - acc: 0.8983 - val_loss: 0.2107 - val_acc: 0.9275\n",
            "Epoch 2/2\n",
            "737/737 [==============================] - 117s 159ms/step - loss: 0.2264 - acc: 0.9128 - val_loss: 0.3065 - val_acc: 0.8664\n"
          ]
        }
      ],
      "source": [
        "rnn_hist = model.fit(X_train, y_train, validation_split=0.3, epochs=2)"
      ]
    },
    {
      "cell_type": "code",
      "execution_count": 194,
      "id": "f6cef5b0",
      "metadata": {
        "id": "f6cef5b0"
      },
      "outputs": [],
      "source": [
        "y_pred = (model.predict(X_test) >= 0.5).astype(\"int\")"
      ]
    },
    {
      "cell_type": "code",
      "execution_count": 195,
      "id": "a7881bdd",
      "metadata": {
        "colab": {
          "base_uri": "https://localhost:8080/"
        },
        "id": "a7881bdd",
        "outputId": "ec6cb293-ef70-470e-ecce-7605ea150017"
      },
      "outputs": [
        {
          "output_type": "execute_result",
          "data": {
            "text/plain": [
              "0.8599554565701559"
            ]
          },
          "metadata": {},
          "execution_count": 195
        }
      ],
      "source": [
        "accuracy_score(y_test, y_pred)"
      ]
    },
    {
      "cell_type": "code",
      "execution_count": 196,
      "id": "5407b47e",
      "metadata": {
        "colab": {
          "base_uri": "https://localhost:8080/"
        },
        "id": "5407b47e",
        "outputId": "80410c91-5a7a-48e0-aab2-6fa67e8ea669"
      },
      "outputs": [
        {
          "output_type": "stream",
          "name": "stdout",
          "text": [
            "              precision    recall  f1-score   support\n",
            "\n",
            "           0       0.89      0.84      0.86      5842\n",
            "           1       0.83      0.89      0.86      5383\n",
            "\n",
            "    accuracy                           0.86     11225\n",
            "   macro avg       0.86      0.86      0.86     11225\n",
            "weighted avg       0.86      0.86      0.86     11225\n",
            "\n"
          ]
        }
      ],
      "source": [
        "print(classification_report(y_test, y_pred))"
      ]
    },
    {
      "cell_type": "markdown",
      "source": [
        "# CNN + LSTM"
      ],
      "metadata": {
        "id": "5e4ZmyHcTdwI"
      },
      "id": "5e4ZmyHcTdwI"
    },
    {
      "cell_type": "code",
      "execution_count": 197,
      "id": "710d8bbc",
      "metadata": {
        "id": "710d8bbc"
      },
      "outputs": [],
      "source": [
        "#Defining Neural Network\n",
        "model1 = Sequential()\n",
        "#Non-trainable embeddidng layer\n",
        "model1.add(Embedding(vocab_size, output_dim=EMBEDDING_DIM, weights=[embedding_vectors], input_length=maxlen, trainable=False))\n",
        "#CNN\n",
        "model1.add(Conv1D(activation='relu', filters=4, kernel_size=4))\n",
        "model1.add(MaxPool1D())\n",
        "#LSTM\n",
        "model1.add(LSTM(128))\n",
        "model1.add(Dense(1, activation='sigmoid'))\n",
        "model1.compile(optimizer='adam', loss='binary_crossentropy', metrics=['acc'])"
      ]
    },
    {
      "cell_type": "code",
      "execution_count": 198,
      "metadata": {
        "colab": {
          "base_uri": "https://localhost:8080/"
        },
        "outputId": "a58cdd39-1408-48a2-953f-9de97bfbbc6b",
        "id": "DhQPXZE6TvAD"
      },
      "outputs": [
        {
          "output_type": "stream",
          "name": "stdout",
          "text": [
            "Model: \"sequential_12\"\n",
            "_________________________________________________________________\n",
            " Layer (type)                Output Shape              Param #   \n",
            "=================================================================\n",
            " embedding_12 (Embedding)    (None, 700, 100)          12239100  \n",
            "                                                                 \n",
            " conv1d_12 (Conv1D)          (None, 697, 4)            1604      \n",
            "                                                                 \n",
            " max_pooling1d_12 (MaxPoolin  (None, 348, 4)           0         \n",
            " g1D)                                                            \n",
            "                                                                 \n",
            " lstm_3 (LSTM)               (None, 128)               68096     \n",
            "                                                                 \n",
            " dense_7 (Dense)             (None, 1)                 129       \n",
            "                                                                 \n",
            "=================================================================\n",
            "Total params: 12,308,929\n",
            "Trainable params: 69,829\n",
            "Non-trainable params: 12,239,100\n",
            "_________________________________________________________________\n"
          ]
        }
      ],
      "source": [
        "model1.summary()"
      ],
      "id": "DhQPXZE6TvAD"
    },
    {
      "cell_type": "code",
      "execution_count": 199,
      "metadata": {
        "id": "tADk36hrT4qu"
      },
      "outputs": [],
      "source": [
        "X_train, X_test, y_train, y_test = train_test_split(X, y) "
      ],
      "id": "tADk36hrT4qu"
    },
    {
      "cell_type": "code",
      "execution_count": 200,
      "metadata": {
        "colab": {
          "base_uri": "https://localhost:8080/"
        },
        "outputId": "a1033bab-c9cb-4bfc-f12e-e38ce7c40d68",
        "id": "gFs9_M1DT4q5"
      },
      "outputs": [
        {
          "output_type": "stream",
          "name": "stdout",
          "text": [
            "Epoch 1/2\n",
            "737/737 [==============================] - 115s 155ms/step - loss: 0.2930 - acc: 0.8750 - val_loss: 0.2703 - val_acc: 0.8857\n",
            "Epoch 2/2\n",
            "737/737 [==============================] - 115s 157ms/step - loss: 0.2283 - acc: 0.9086 - val_loss: 0.1850 - val_acc: 0.9337\n"
          ]
        }
      ],
      "source": [
        "lstm_hist = model.fit(X_train, y_train, validation_split=0.3, epochs=2)"
      ],
      "id": "gFs9_M1DT4q5"
    },
    {
      "cell_type": "code",
      "execution_count": 201,
      "metadata": {
        "id": "PABrJtFiT4q5"
      },
      "outputs": [],
      "source": [
        "y_pred = (model.predict(X_test) >= 0.5).astype(\"int\")"
      ],
      "id": "PABrJtFiT4q5"
    },
    {
      "cell_type": "code",
      "execution_count": 202,
      "metadata": {
        "colab": {
          "base_uri": "https://localhost:8080/"
        },
        "outputId": "4b1f8769-76a0-453a-830b-c320b329588c",
        "id": "-jebhBMJT4q6"
      },
      "outputs": [
        {
          "output_type": "execute_result",
          "data": {
            "text/plain": [
              "0.9278396436525612"
            ]
          },
          "metadata": {},
          "execution_count": 202
        }
      ],
      "source": [
        "accuracy_score(y_test, y_pred)"
      ],
      "id": "-jebhBMJT4q6"
    },
    {
      "cell_type": "code",
      "execution_count": 203,
      "metadata": {
        "colab": {
          "base_uri": "https://localhost:8080/"
        },
        "outputId": "86a8f9f8-e62a-4aea-c0a5-5314a317dc31",
        "id": "S0E1ou6QT4q6"
      },
      "outputs": [
        {
          "output_type": "stream",
          "name": "stdout",
          "text": [
            "              precision    recall  f1-score   support\n",
            "\n",
            "           0       0.94      0.92      0.93      5855\n",
            "           1       0.91      0.94      0.93      5370\n",
            "\n",
            "    accuracy                           0.93     11225\n",
            "   macro avg       0.93      0.93      0.93     11225\n",
            "weighted avg       0.93      0.93      0.93     11225\n",
            "\n"
          ]
        }
      ],
      "source": [
        "print(classification_report(y_test, y_pred))"
      ],
      "id": "S0E1ou6QT4q6"
    },
    {
      "cell_type": "markdown",
      "source": [
        "# CNN + GRU"
      ],
      "metadata": {
        "id": "gAoUEQX3UTsL"
      },
      "id": "gAoUEQX3UTsL"
    },
    {
      "cell_type": "code",
      "execution_count": 204,
      "metadata": {
        "id": "a1776450"
      },
      "outputs": [],
      "source": [
        "#Defining Neural Network\n",
        "model = Sequential()\n",
        "#Non-trainable embeddidng layer\n",
        "model.add(Embedding(vocab_size, output_dim=EMBEDDING_DIM, weights=[embedding_vectors], input_length=maxlen, trainable=False))\n",
        "model.add(Conv1D(activation='relu', filters=4, kernel_size=4))\n",
        "model.add(MaxPool1D())\n",
        "model.add(GRU(128))\n",
        "model.add(Dense(1, activation='sigmoid'))\n",
        "model.compile(optimizer='adam', loss='binary_crossentropy', metrics=['acc'])\n",
        "\n",
        "\n"
      ],
      "id": "a1776450"
    },
    {
      "cell_type": "code",
      "execution_count": 205,
      "metadata": {
        "id": "81967a17"
      },
      "outputs": [],
      "source": [
        "X_train, X_test, y_train, y_test = train_test_split(X, y) "
      ],
      "id": "81967a17"
    },
    {
      "cell_type": "code",
      "execution_count": 206,
      "metadata": {
        "id": "d6575570",
        "outputId": "ac6d9de0-2c9a-4b24-e7b8-5a11580c2198",
        "colab": {
          "base_uri": "https://localhost:8080/"
        }
      },
      "outputs": [
        {
          "output_type": "stream",
          "name": "stdout",
          "text": [
            "Epoch 1/2\n",
            "737/737 [==============================] - 228s 302ms/step - loss: 0.1825 - acc: 0.9280 - val_loss: 0.0904 - val_acc: 0.9682\n",
            "Epoch 2/2\n",
            "737/737 [==============================] - 220s 299ms/step - loss: 0.0740 - acc: 0.9727 - val_loss: 0.0607 - val_acc: 0.9784\n"
          ]
        }
      ],
      "source": [
        "gru_hist = model.fit(X_train, y_train, validation_split=0.3, epochs=2)"
      ],
      "id": "d6575570"
    },
    {
      "cell_type": "code",
      "execution_count": 207,
      "metadata": {
        "id": "b3af8eb5"
      },
      "outputs": [],
      "source": [
        "y_pred = (model.predict(X_test) >= 0.5).astype(\"int\")"
      ],
      "id": "b3af8eb5"
    },
    {
      "cell_type": "code",
      "execution_count": 208,
      "metadata": {
        "id": "bbf324dd",
        "outputId": "8f25d184-4b4d-4f8f-ca16-4e85f141ba22",
        "colab": {
          "base_uri": "https://localhost:8080/"
        }
      },
      "outputs": [
        {
          "output_type": "execute_result",
          "data": {
            "text/plain": [
              "0.97728285077951"
            ]
          },
          "metadata": {},
          "execution_count": 208
        }
      ],
      "source": [
        "accuracy_score(y_test, y_pred)"
      ],
      "id": "bbf324dd"
    },
    {
      "cell_type": "code",
      "execution_count": 209,
      "metadata": {
        "id": "0a409444",
        "outputId": "fb456050-19c1-452c-f52a-3a986bc14467",
        "colab": {
          "base_uri": "https://localhost:8080/"
        }
      },
      "outputs": [
        {
          "output_type": "stream",
          "name": "stdout",
          "text": [
            "              precision    recall  f1-score   support\n",
            "\n",
            "           0       0.97      0.98      0.98      5877\n",
            "           1       0.98      0.97      0.98      5348\n",
            "\n",
            "    accuracy                           0.98     11225\n",
            "   macro avg       0.98      0.98      0.98     11225\n",
            "weighted avg       0.98      0.98      0.98     11225\n",
            "\n"
          ]
        }
      ],
      "source": [
        "print(classification_report(y_test, y_pred))"
      ],
      "id": "0a409444"
    },
    {
      "cell_type": "code",
      "source": [
        "accuracy_rnn = ['CNN+RNN', \n",
        "               np.mean(rnn_hist.history['acc']), \n",
        "               np.mean(rnn_hist.history['val_acc'])]\n",
        "\n",
        "accuracy_lstm = ['CNN+LSTM', \n",
        "                np.mean(lstm_hist.history['acc']), \n",
        "                np.mean(lstm_hist.history['val_acc'])]\n",
        "\n",
        "accuracy_gru = ['CNN+GRU', \n",
        "                np.mean(gru_hist.history['acc']), \n",
        "                np.mean(gru_hist.history['val_acc'])]"
      ],
      "metadata": {
        "id": "VZTDyPqKb8VC"
      },
      "execution_count": 210,
      "outputs": [],
      "id": "VZTDyPqKb8VC"
    },
    {
      "cell_type": "code",
      "source": [
        "comparison = pd.DataFrame([accuracy_rnn])\n",
        "# append all other scores\n",
        "comparison = comparison.append([accuracy_lstm,accuracy_gru])"
      ],
      "metadata": {
        "id": "hztAuV5Xjdq3"
      },
      "execution_count": 221,
      "outputs": [],
      "id": "hztAuV5Xjdq3"
    },
    {
      "cell_type": "code",
      "source": [
        "comparison.columns = ['Algorithm', 'Training Accuracy', 'Validation Accuracy']\n",
        "comparison.set_index(['Algorithm'], inplace=True)\n",
        "comparison"
      ],
      "metadata": {
        "id": "4SzXySTQjrnj",
        "outputId": "b1767152-2d88-4dd2-866c-bfb10e64777a",
        "colab": {
          "base_uri": "https://localhost:8080/",
          "height": 174
        }
      },
      "execution_count": 222,
      "outputs": [
        {
          "output_type": "execute_result",
          "data": {
            "text/plain": [
              "           Training Accuracy  Validation Accuracy\n",
              "Algorithm                                        \n",
              "CNN+RNN             0.905537             0.896951\n",
              "CNN+LSTM            0.891790             0.909671\n",
              "CNN+GRU             0.950318             0.973322"
            ],
            "text/html": [
              "\n",
              "  <div id=\"df-5fafa50c-e7f9-44c3-a227-df0bd7faa1c1\">\n",
              "    <div class=\"colab-df-container\">\n",
              "      <div>\n",
              "<style scoped>\n",
              "    .dataframe tbody tr th:only-of-type {\n",
              "        vertical-align: middle;\n",
              "    }\n",
              "\n",
              "    .dataframe tbody tr th {\n",
              "        vertical-align: top;\n",
              "    }\n",
              "\n",
              "    .dataframe thead th {\n",
              "        text-align: right;\n",
              "    }\n",
              "</style>\n",
              "<table border=\"1\" class=\"dataframe\">\n",
              "  <thead>\n",
              "    <tr style=\"text-align: right;\">\n",
              "      <th></th>\n",
              "      <th>Training Accuracy</th>\n",
              "      <th>Validation Accuracy</th>\n",
              "    </tr>\n",
              "    <tr>\n",
              "      <th>Algorithm</th>\n",
              "      <th></th>\n",
              "      <th></th>\n",
              "    </tr>\n",
              "  </thead>\n",
              "  <tbody>\n",
              "    <tr>\n",
              "      <th>CNN+RNN</th>\n",
              "      <td>0.905537</td>\n",
              "      <td>0.896951</td>\n",
              "    </tr>\n",
              "    <tr>\n",
              "      <th>CNN+LSTM</th>\n",
              "      <td>0.891790</td>\n",
              "      <td>0.909671</td>\n",
              "    </tr>\n",
              "    <tr>\n",
              "      <th>CNN+GRU</th>\n",
              "      <td>0.950318</td>\n",
              "      <td>0.973322</td>\n",
              "    </tr>\n",
              "  </tbody>\n",
              "</table>\n",
              "</div>\n",
              "      <button class=\"colab-df-convert\" onclick=\"convertToInteractive('df-5fafa50c-e7f9-44c3-a227-df0bd7faa1c1')\"\n",
              "              title=\"Convert this dataframe to an interactive table.\"\n",
              "              style=\"display:none;\">\n",
              "        \n",
              "  <svg xmlns=\"http://www.w3.org/2000/svg\" height=\"24px\"viewBox=\"0 0 24 24\"\n",
              "       width=\"24px\">\n",
              "    <path d=\"M0 0h24v24H0V0z\" fill=\"none\"/>\n",
              "    <path d=\"M18.56 5.44l.94 2.06.94-2.06 2.06-.94-2.06-.94-.94-2.06-.94 2.06-2.06.94zm-11 1L8.5 8.5l.94-2.06 2.06-.94-2.06-.94L8.5 2.5l-.94 2.06-2.06.94zm10 10l.94 2.06.94-2.06 2.06-.94-2.06-.94-.94-2.06-.94 2.06-2.06.94z\"/><path d=\"M17.41 7.96l-1.37-1.37c-.4-.4-.92-.59-1.43-.59-.52 0-1.04.2-1.43.59L10.3 9.45l-7.72 7.72c-.78.78-.78 2.05 0 2.83L4 21.41c.39.39.9.59 1.41.59.51 0 1.02-.2 1.41-.59l7.78-7.78 2.81-2.81c.8-.78.8-2.07 0-2.86zM5.41 20L4 18.59l7.72-7.72 1.47 1.35L5.41 20z\"/>\n",
              "  </svg>\n",
              "      </button>\n",
              "      \n",
              "  <style>\n",
              "    .colab-df-container {\n",
              "      display:flex;\n",
              "      flex-wrap:wrap;\n",
              "      gap: 12px;\n",
              "    }\n",
              "\n",
              "    .colab-df-convert {\n",
              "      background-color: #E8F0FE;\n",
              "      border: none;\n",
              "      border-radius: 50%;\n",
              "      cursor: pointer;\n",
              "      display: none;\n",
              "      fill: #1967D2;\n",
              "      height: 32px;\n",
              "      padding: 0 0 0 0;\n",
              "      width: 32px;\n",
              "    }\n",
              "\n",
              "    .colab-df-convert:hover {\n",
              "      background-color: #E2EBFA;\n",
              "      box-shadow: 0px 1px 2px rgba(60, 64, 67, 0.3), 0px 1px 3px 1px rgba(60, 64, 67, 0.15);\n",
              "      fill: #174EA6;\n",
              "    }\n",
              "\n",
              "    [theme=dark] .colab-df-convert {\n",
              "      background-color: #3B4455;\n",
              "      fill: #D2E3FC;\n",
              "    }\n",
              "\n",
              "    [theme=dark] .colab-df-convert:hover {\n",
              "      background-color: #434B5C;\n",
              "      box-shadow: 0px 1px 3px 1px rgba(0, 0, 0, 0.15);\n",
              "      filter: drop-shadow(0px 1px 2px rgba(0, 0, 0, 0.3));\n",
              "      fill: #FFFFFF;\n",
              "    }\n",
              "  </style>\n",
              "\n",
              "      <script>\n",
              "        const buttonEl =\n",
              "          document.querySelector('#df-5fafa50c-e7f9-44c3-a227-df0bd7faa1c1 button.colab-df-convert');\n",
              "        buttonEl.style.display =\n",
              "          google.colab.kernel.accessAllowed ? 'block' : 'none';\n",
              "\n",
              "        async function convertToInteractive(key) {\n",
              "          const element = document.querySelector('#df-5fafa50c-e7f9-44c3-a227-df0bd7faa1c1');\n",
              "          const dataTable =\n",
              "            await google.colab.kernel.invokeFunction('convertToInteractive',\n",
              "                                                     [key], {});\n",
              "          if (!dataTable) return;\n",
              "\n",
              "          const docLinkHtml = 'Like what you see? Visit the ' +\n",
              "            '<a target=\"_blank\" href=https://colab.research.google.com/notebooks/data_table.ipynb>data table notebook</a>'\n",
              "            + ' to learn more about interactive tables.';\n",
              "          element.innerHTML = '';\n",
              "          dataTable['output_type'] = 'display_data';\n",
              "          await google.colab.output.renderOutput(dataTable, element);\n",
              "          const docLink = document.createElement('div');\n",
              "          docLink.innerHTML = docLinkHtml;\n",
              "          element.appendChild(docLink);\n",
              "        }\n",
              "      </script>\n",
              "    </div>\n",
              "  </div>\n",
              "  "
            ]
          },
          "metadata": {},
          "execution_count": 222
        }
      ],
      "id": "4SzXySTQjrnj"
    }
  ],
  "metadata": {
    "kernelspec": {
      "display_name": "Python 3",
      "language": "python",
      "name": "python3"
    },
    "language_info": {
      "codemirror_mode": {
        "name": "ipython",
        "version": 3
      },
      "file_extension": ".py",
      "mimetype": "text/x-python",
      "name": "python",
      "nbconvert_exporter": "python",
      "pygments_lexer": "ipython3",
      "version": "3.8.8"
    },
    "colab": {
      "name": "CNN+RNN,CNN+LSTM,CNN+GRU with word2vec.ipynb",
      "provenance": [],
      "collapsed_sections": [],
      "include_colab_link": true
    }
  },
  "nbformat": 4,
  "nbformat_minor": 5
}